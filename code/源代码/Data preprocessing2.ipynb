{
 "cells": [
  {
   "cell_type": "code",
   "execution_count": 1,
   "id": "0beffe46-ac24-4c25-960f-92fea370206a",
   "metadata": {},
   "outputs": [],
   "source": [
    "#导入表格数据\n",
    "import pandas as pd\n",
    "df=pd.read_excel('C:\\\\Users\\\\hp\\\\Desktop\\\\keshe\\\\去单位填平均数后.xlsx')"
   ]
  },
  {
   "cell_type": "code",
   "execution_count": 2,
   "id": "6937f51d-bcdb-469e-b069-2250deed9e38",
   "metadata": {},
   "outputs": [],
   "source": [
    "import os\n",
    "import numpy as np\n",
    "os.environ[\"HF_HUB_DISABLE_SYMLINKS_WARNING\"] = \"1\"\n",
    "from llama_index.embeddings.huggingface import HuggingFaceEmbedding\n",
    "# 读取要转换的material列数据集\n",
    "datas = df['material'].unique()\n",
    "# 加载模型\n",
    "embed_model = HuggingFaceEmbedding(model_name=\"sentence-transformers/all-MiniLM-L6-v2\")\n",
    "# 获取文本的嵌入向量并添加到新列\n",
    "embeddings = [embed_model.get_text_embedding(data) for data in datas]\n",
    "df['material_embeddings'] = [embeddings[list(datas).index(material)] for material in df['material']]\n",
    "material_embeddings_means = df['material_embeddings'].apply(lambda x: np.mean(x))\n",
    "df['Material'] = material_embeddings_means"
   ]
  },
  {
   "cell_type": "code",
   "execution_count": 3,
   "id": "b1d1fa7c-7f73-4476-9a32-eb52445808e5",
   "metadata": {},
   "outputs": [],
   "source": [
    "# 进行数据归一化\n",
    "columns_to_normalize = ['voltage', 'CO2_flow_rate', 'MEA_area', 'anode_area', 'anode_catalyst_loading', 'cathode_area',\n",
    "                        'cathode_catalyst_loading', 'temperature', 'electrolyte_flow_anolyte_rate','membrane_area']\n",
    "\n",
    "for column in columns_to_normalize:\n",
    "    min_value = df[column].min()\n",
    "    max_value = df[column].max()\n",
    "    df[column] = (df[column] - min_value) / (max_value - min_value)"
   ]
  },
  {
   "cell_type": "code",
   "execution_count": 4,
   "id": "61fb9755-ce96-435a-beae-21683cbc28af",
   "metadata": {},
   "outputs": [],
   "source": [
    "df.to_excel('C:\\\\Users\\\\hp\\\\Desktop\\\\keshe\\\\material embedding.xlsx', index=False)"
   ]
  }
 ],
 "metadata": {
  "kernelspec": {
   "display_name": "Python 3 (ipykernel)",
   "language": "python",
   "name": "python3"
  },
  "language_info": {
   "codemirror_mode": {
    "name": "ipython",
    "version": 3
   },
   "file_extension": ".py",
   "mimetype": "text/x-python",
   "name": "python",
   "nbconvert_exporter": "python",
   "pygments_lexer": "ipython3",
   "version": "3.12.3"
  }
 },
 "nbformat": 4,
 "nbformat_minor": 5
}
