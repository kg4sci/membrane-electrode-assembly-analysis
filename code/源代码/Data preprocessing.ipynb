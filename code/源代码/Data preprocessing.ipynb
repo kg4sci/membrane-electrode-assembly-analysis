{
 "cells": [
  {
   "cell_type": "code",
   "execution_count": 1,
   "id": "55cd58da-12ef-4abc-8589-a2046baa3e4d",
   "metadata": {},
   "outputs": [],
   "source": [
    "#导入表格数据\n",
    "import pandas as pd\n",
    "df=pd.read_excel('C:\\\\Users\\\\hp\\\\Desktop\\\\keshe\\\\20241009-膜电极数据(5).xlsx')"
   ]
  },
  {
   "cell_type": "code",
   "execution_count": 2,
   "id": "038c807c-4c23-4fd4-a402-bec2520de2bc",
   "metadata": {},
   "outputs": [],
   "source": [
    "# 删除 first_product_faraday_efficiency 列低于 20%的数据\n",
    "df = df[df['first_product_faraday_efficiency'] >= 20]\n",
    "# 删除 first_product_faraday_efficiency 列的空值\n",
    "df = df.dropna(subset=['first_product_faraday_efficiency'])"
   ]
  },
  {
   "cell_type": "code",
   "execution_count": 3,
   "id": "d90aa7f3-06bf-4617-b061-3412986ff29d",
   "metadata": {},
   "outputs": [
    {
     "name": "stdout",
     "output_type": "stream",
     "text": [
      "0      2.900000\n",
      "1      2.700000\n",
      "2      3.237553\n",
      "3      3.237553\n",
      "4      2.240000\n",
      "         ...   \n",
      "496    4.000000\n",
      "497    3.237553\n",
      "498    3.600000\n",
      "499    3.600000\n",
      "500    3.600000\n",
      "Name: voltage, Length: 428, dtype: float64\n"
     ]
    }
   ],
   "source": [
    "# 去除 voltage 列中的单位 V\n",
    "df['voltage'] = df['voltage'].str.replace('V', '').astype(float)\n",
    "# 计算 voltage 列的平均值\n",
    "mean_voltage = df['voltage'].mean()\n",
    "# 用平均值填充 voltage 列的缺失值\n",
    "df['voltage'] = df['voltage'].fillna(mean_voltage)\n",
    "# 查看处理后的结果\n",
    "print(df['voltage'])"
   ]
  },
  {
   "cell_type": "code",
   "execution_count": 4,
   "id": "8ad80bb2-d74d-44f8-8e28-f4076ebc2064",
   "metadata": {},
   "outputs": [],
   "source": [
    "# 计算 total_current_density 列的平均值\n",
    "mean_current_density = df['total_current_density'].mean()\n",
    "# 用平均值填充 total_current_density 列的缺失值\n",
    "df['total_current_density'] = df['total_current_density'].fillna(mean_current_density)"
   ]
  },
  {
   "cell_type": "code",
   "execution_count": 5,
   "id": "cef0a123-adbd-4b2c-903b-f0bc0fda1854",
   "metadata": {},
   "outputs": [],
   "source": [
    "# 使用正则表达式去除CO2_flow_rate列中的单位sccm或者ccm\n",
    "df['CO2_flow_rate'] = df['CO2_flow_rate'].astype(str).str.replace('(sccm|ccm)', '', regex=True).astype(float)\n",
    "# 计算CO2_flow_rate列的平均值\n",
    "mean_CO2_flow_rate = df['CO2_flow_rate'].mean()\n",
    "# 用平均值填充CO2_flow_rate列的缺失值\n",
    "df['CO2_flow_rate'] = df['CO2_flow_rate'].fillna(mean_CO2_flow_rate)"
   ]
  },
  {
   "cell_type": "code",
   "execution_count": 6,
   "id": "19717460-888c-45e1-8dfb-d61ffba8ad79",
   "metadata": {},
   "outputs": [],
   "source": [
    "# 去除 MEA_area 列中的单位 cm2\n",
    "df['MEA_area'] = df['MEA_area'].astype(str).str.replace('cm2', '').astype(float)\n",
    "# 计算 MEA_area 列的平均值\n",
    "mean_area = df['MEA_area'].mean()\n",
    "# 用平均值填充 MEA_area 列的缺失值\n",
    "df['MEA_area'] = df['MEA_area'].fillna(mean_area)"
   ]
  },
  {
   "cell_type": "code",
   "execution_count": 7,
   "id": "017d005c-98e7-4ea7-bc06-2fe35b832f1c",
   "metadata": {},
   "outputs": [],
   "source": [
    "# 去除anode_area列中的单位cm2\n",
    "df['anode_area'] = df['anode_area'].astype(str).str.replace(\"cm2\", \"\").astype(float)\n",
    "# 计算anode_area列的平均值\n",
    "mean_anode_area = df['anode_area'].mean()\n",
    "# 填充anode_areaa列的缺失值为平均值\n",
    "df['anode_area'] = df['anode_area'].fillna(mean_anode_area)"
   ]
  },
  {
   "cell_type": "code",
   "execution_count": 8,
   "id": "e85ac3af-3e2c-431c-9efb-23188a68b253",
   "metadata": {},
   "outputs": [],
   "source": [
    "# 去除 anode_catalyst_loading 列中的单位 mg/cm2\n",
    "df['anode_catalyst_loading'] = df['anode_catalyst_loading'].astype(str).str.replace('mg/cm2', '').astype(float)\n",
    "# 计算 anode_catalyst_loading 列的平均值\n",
    "mean_loading = df['anode_catalyst_loading'].mean()\n",
    "# 使用平均值填充 anode_catalyst_loading 列的缺失值\n",
    "df['anode_catalyst_loading'] = df['anode_catalyst_loading'].fillna(mean_loading)"
   ]
  },
  {
   "cell_type": "code",
   "execution_count": 9,
   "id": "3e26cd45-cb78-4b47-9cf8-dc638a8444ec",
   "metadata": {},
   "outputs": [],
   "source": [
    "# 去除 cathode_area 列中的单位 cm2\n",
    "df['cathode_area'] = df['cathode_area'].astype(str).str.replace('cm2', '').astype(float)\n",
    "# 计算 cathode_area 列的平均值\n",
    "mean_area = df['cathode_area'].mean()\n",
    "# 使用平均值填充 cathode_area 列的缺失值\n",
    "df['cathode_area'] = df['cathode_area'].fillna(mean_area)"
   ]
  },
  {
   "cell_type": "code",
   "execution_count": 10,
   "id": "37539ea9-40ce-4478-a10d-e249fd17c4ad",
   "metadata": {},
   "outputs": [],
   "source": [
    "# 去除 cathode_catalyst_loading 列中的单位 mg/cm2\n",
    "df['cathode_catalyst_loading'] = df['cathode_catalyst_loading'].astype(str).str.replace('mg/cm2', '').astype(float)\n",
    "# 计算 cathode_catalyst_loading 列的平均值\n",
    "mean_loading = df['cathode_catalyst_loading'].mean()\n",
    "# 使用平均值填充 cathode_catalyst_loading 列的缺失值\n",
    "df['cathode_catalyst_loading'] = df['cathode_catalyst_loading'].fillna(mean_loading)"
   ]
  },
  {
   "cell_type": "code",
   "execution_count": 11,
   "id": "f26ff5b1-7118-4e94-9593-11e42b2b86ab",
   "metadata": {},
   "outputs": [],
   "source": [
    "# 处理 temperature 列\n",
    "def process_temperature(value):\n",
    "    if isinstance(value, str):\n",
    "        # 去除 °C 和 ℃\n",
    "        value = value.replace('°C', '').replace('℃', '')\n",
    "        if value == 'room temperature':\n",
    "            return 25\n",
    "        else:\n",
    "            try:\n",
    "                return float(value)\n",
    "            except ValueError:\n",
    "                return pd.NA\n",
    "    else:\n",
    "        return value\n",
    "\n",
    "df['temperature'] = df['temperature'].apply(process_temperature)\n",
    "# 将缺失值填充为 25\n",
    "df['temperature'] = df['temperature'].fillna(25)"
   ]
  },
  {
   "cell_type": "code",
   "execution_count": 12,
   "id": "cc808a03-195f-46b0-8e30-b650421e3649",
   "metadata": {},
   "outputs": [],
   "source": [
    "# 判断 membrane 列是否有缺失值，如果有，将缺失值设置为新类别'unknown_membrane'\n",
    "if df['membrane'].hasnans:\n",
    "    df['membrane'] = df['membrane'].fillna('unknown_membrane')"
   ]
  },
  {
   "cell_type": "code",
   "execution_count": 13,
   "id": "edfc4b6d-d73e-4ee4-ad36-ff18605bcd28",
   "metadata": {},
   "outputs": [],
   "source": [
    "# 判断 anode 列是否有缺失值，如果有，将缺失值设置为新类别'unknown_anode'\n",
    "if df['anode'].hasnans:\n",
    "    df['anode'] = df['anode'].fillna('unknown_anode')"
   ]
  },
  {
   "cell_type": "code",
   "execution_count": 14,
   "id": "e73a8bbc-eb6e-4a0b-9961-77deec53e995",
   "metadata": {},
   "outputs": [],
   "source": [
    "# 检查electrolyte是否有缺失值并填充\n",
    "missing_mask = df['electrolyte'].isnull()\n",
    "if missing_mask.any():\n",
    "    df.loc[missing_mask, 'electrolyte'] = 'unknown_electrolyte'"
   ]
  },
  {
   "cell_type": "code",
   "execution_count": 15,
   "id": "7b084736-f157-4f42-8de7-90770fd98f0f",
   "metadata": {},
   "outputs": [],
   "source": [
    "# electrolyte_flow_anolyte_rate去除单位并转换为数值类型\n",
    "df['electrolyte_flow_anolyte_rate'] = df['electrolyte_flow_anolyte_rate'].str.replace('mL/min', '').astype(float)\n",
    "# 计算平均值\n",
    "mean_value = df['electrolyte_flow_anolyte_rate'].mean()\n",
    "# 填充空白值为平均值\n",
    "df['electrolyte_flow_anolyte_rate'] = df['electrolyte_flow_anolyte_rate'].fillna(mean_value)"
   ]
  },
  {
   "cell_type": "code",
   "execution_count": 16,
   "id": "e7b9dbb3-2fbf-4aa5-b2a1-9b89aae6fb83",
   "metadata": {},
   "outputs": [
    {
     "name": "stdout",
     "output_type": "stream",
     "text": [
      "0      16.000000\n",
      "1      16.000000\n",
      "2      24.246795\n",
      "3      20.250000\n",
      "4      24.246795\n",
      "         ...    \n",
      "496    24.246795\n",
      "497    24.246795\n",
      "498    24.246795\n",
      "499    24.246795\n",
      "500    24.246795\n",
      "Name: membrane_area, Length: 427, dtype: float64\n"
     ]
    }
   ],
   "source": [
    "# 删除membrane_area特定值的数据行\n",
    "df = df[df['membrane_area']!= 'AEM: 56.25 cm2, CEM: 25 cm2']\n",
    "# 去除单位并转换为数值类型\n",
    "df['membrane_area'] = df['membrane_area'].str.replace('cm2', '').astype(float)\n",
    "# 计算平均值\n",
    "mean_value = df['membrane_area'].mean()\n",
    "# 填充缺失值为平均值\n",
    "df['membrane_area'] = df['membrane_area'].fillna(mean_value)\n",
    "# 查看处理后的结果\n",
    "print(df['membrane_area'])"
   ]
  },
  {
   "cell_type": "code",
   "execution_count": 17,
   "id": "1e316a18-b7c5-4897-bf41-41dccede1186",
   "metadata": {},
   "outputs": [
    {
     "name": "stdout",
     "output_type": "stream",
     "text": [
      "0      1\n",
      "1      1\n",
      "2      1\n",
      "3      0\n",
      "4      0\n",
      "      ..\n",
      "496    1\n",
      "497    0\n",
      "498    0\n",
      "499    0\n",
      "500    0\n",
      "Name: copper_containing, Length: 427, dtype: int64\n"
     ]
    }
   ],
   "source": [
    "mapping = {'YES': 1, 'NO': 0}\n",
    "df['copper_containing'] = df['copper_containing'].map(mapping)\n",
    "print(df['copper_containing'])"
   ]
  },
  {
   "cell_type": "code",
   "execution_count": 18,
   "id": "1f1532e3-13c1-48d6-ac2b-b12de568f324",
   "metadata": {},
   "outputs": [],
   "source": [
    "df.to_excel('C:\\\\Users\\\\hp\\\\Desktop\\\\keshe\\\\去单位并填充数据缺失值后.xlsx', index=False)"
   ]
  }
 ],
 "metadata": {
  "kernelspec": {
   "display_name": "Python 3 (ipykernel)",
   "language": "python",
   "name": "python3"
  },
  "language_info": {
   "codemirror_mode": {
    "name": "ipython",
    "version": 3
   },
   "file_extension": ".py",
   "mimetype": "text/x-python",
   "name": "python",
   "nbconvert_exporter": "python",
   "pygments_lexer": "ipython3",
   "version": "3.12.3"
  }
 },
 "nbformat": 4,
 "nbformat_minor": 5
}
