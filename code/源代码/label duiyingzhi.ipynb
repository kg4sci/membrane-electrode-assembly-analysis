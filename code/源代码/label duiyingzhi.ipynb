{
 "cells": [
  {
   "cell_type": "code",
   "execution_count": 1,
   "id": "9d9e8562-325b-45e9-9740-3adbf5046fb9",
   "metadata": {},
   "outputs": [
    {
     "name": "stdout",
     "output_type": "stream",
     "text": [
      "编码值: 0 对应原始值: C2H4\n",
      "编码值: 1 对应原始值: C2H5OH\n",
      "编码值: 2 对应原始值: CH3COOH\n",
      "编码值: 3 对应原始值: CH3OH\n",
      "编码值: 4 对应原始值: CH4\n",
      "编码值: 5 对应原始值: CO\n",
      "编码值: 6 对应原始值: H2C2O4\n",
      "编码值: 7 对应原始值: HCOOH\n"
     ]
    }
   ],
   "source": [
    "#导入表格数据\n",
    "import pandas as pd\n",
    "df=pd.read_excel('C:\\\\Users\\\\hp\\\\Desktop\\\\keshe\\\\去单位填平均数后.xlsx')\n",
    "from sklearn.preprocessing import LabelEncoder\n",
    "# 进行标签编码\n",
    "le = LabelEncoder()\n",
    "df['First product'] = le.fit_transform(df['first_product'])\n",
    "# 获取编码后的数字和原始元素的对应关系\n",
    "encoded_to_original = dict(zip(le.transform(le.classes_), le.classes_))\n",
    "\n",
    "# 打印对应关系\n",
    "for encoded_value, original_value in encoded_to_original.items():\n",
    "    print(f\"编码值: {encoded_value} 对应原始值: {original_value}\")"
   ]
  },
  {
   "cell_type": "code",
   "execution_count": 2,
   "id": "9a4b8853-7ad3-4726-bb9b-a7099498aa83",
   "metadata": {},
   "outputs": [
    {
     "name": "stdout",
     "output_type": "stream",
     "text": [
      "编码值: 0 对应原始值: AEM\n",
      "编码值: 1 对应原始值: BPM\n",
      "编码值: 2 对应原始值: BPM (forward bias)\n",
      "编码值: 3 对应原始值: BPM (reverse bias)\n",
      "编码值: 4 对应原始值: CEM\n",
      "编码值: 5 对应原始值: CSA\n"
     ]
    }
   ],
   "source": [
    "le = LabelEncoder()\n",
    "# 列进行标签编码\n",
    "df['MEA configuration'] = le.fit_transform(df['MEA_configuration'])\n",
    "# 获取编码后的数字和原始元素的对应关系\n",
    "encoded_to_original = dict(zip(le.transform(le.classes_), le.classes_))\n",
    "\n",
    "# 打印对应关系\n",
    "for encoded_value, original_value in encoded_to_original.items():\n",
    "    print(f\"编码值: {encoded_value} 对应原始值: {original_value}\")"
   ]
  },
  {
   "cell_type": "code",
   "execution_count": 3,
   "id": "55d185c7-8c2f-493e-ab4d-1f36f8f03fe4",
   "metadata": {},
   "outputs": [
    {
     "name": "stdout",
     "output_type": "stream",
     "text": [
      "编码值: 0 对应原始值: Cs2CO3\n",
      "编码值: 1 对应原始值: Cs2SO4\n",
      "编码值: 2 对应原始值: CsHCO3\n",
      "编码值: 3 对应原始值: CsOH\n",
      "编码值: 4 对应原始值: H2SO4\n",
      "编码值: 5 对应原始值: KHCO3\n",
      "编码值: 6 对应原始值: KOH\n",
      "编码值: 7 对应原始值: NaHCO3\n",
      "编码值: 8 对应原始值: NaOH\n"
     ]
    }
   ],
   "source": [
    "df['Electrolyte'] = le.fit_transform(df['electrolyte_2'])\n",
    "# 获取编码后的数字和原始元素的对应关系\n",
    "encoded_to_original = dict(zip(le.transform(le.classes_), le.classes_))\n",
    "\n",
    "# 打印对应关系\n",
    "for encoded_value, original_value in encoded_to_original.items():\n",
    "    print(f\"编码值: {encoded_value} 对应原始值: {original_value}\")\n"
   ]
  },
  {
   "cell_type": "code",
   "execution_count": 4,
   "id": "1f469d62-1ed3-414a-82e8-91fdc2f59707",
   "metadata": {},
   "outputs": [
    {
     "name": "stdout",
     "output_type": "stream",
     "text": [
      "编码值: 0 对应原始值: Aemion\n",
      "编码值: 1 对应原始值: FAA\n",
      "编码值: 2 对应原始值: FAB\n",
      "编码值: 3 对应原始值: FBA\n",
      "编码值: 4 对应原始值: FBM\n",
      "编码值: 5 对应原始值: HQPC-tmIM\n",
      "编码值: 6 对应原始值: MPIP\n",
      "编码值: 7 对应原始值: Nafion\n",
      "编码值: 8 对应原始值: Orion Polymer\n",
      "编码值: 9 对应原始值: PSMIM\n",
      "编码值: 10 对应原始值: PSMIM+Nafion\n",
      "编码值: 11 对应原始值: PTFE Sustainion\n",
      "编码值: 12 对应原始值: PiperION\n",
      "编码值: 13 对应原始值: QAPBI\n",
      "编码值: 14 对应原始值: QAPPT\n",
      "编码值: 15 对应原始值: Ralex\n",
      "编码值: 16 对应原始值: Selemion\n",
      "编码值: 17 对应原始值: Sustainion\n",
      "编码值: 18 对应原始值: Sustainion+Nafion\n",
      "编码值: 19 对应原始值: cQAPBI-6C\n",
      "编码值: 20 对应原始值: unknown_membrane\n"
     ]
    }
   ],
   "source": [
    "df['Membrane'] = le.fit_transform(df['membrane'])\n",
    "# 获取编码后的数字和原始元素的对应关系\n",
    "encoded_to_original = dict(zip(le.transform(le.classes_), le.classes_))\n",
    "\n",
    "# 打印对应关系\n",
    "for encoded_value, original_value in encoded_to_original.items():\n",
    "    print(f\"编码值: {encoded_value} 对应原始值: {original_value}\")"
   ]
  },
  {
   "cell_type": "code",
   "execution_count": 5,
   "id": "586456b4-22a8-4963-8c9d-0b065c1111c4",
   "metadata": {},
   "outputs": [
    {
     "name": "stdout",
     "output_type": "stream",
     "text": [
      "编码值: 0 对应原始值: FeNiOH LDH\n",
      "编码值: 1 对应原始值: Ir\n",
      "编码值: 2 对应原始值: Ir-MMO\n",
      "编码值: 3 对应原始值: IrClx\n",
      "编码值: 4 对应原始值: IrOx\n",
      "编码值: 5 对应原始值: IrOx/Ir\n",
      "编码值: 6 对应原始值: IrOx/Pt\n",
      "编码值: 7 对应原始值: IrRu\n",
      "编码值: 8 对应原始值: IrTaOx/Ti\n",
      "编码值: 9 对应原始值: Ni\n",
      "编码值: 10 对应原始值: NiCo LDH\n",
      "编码值: 11 对应原始值: NiFe\n",
      "编码值: 12 对应原始值: NiFe LDH\n",
      "编码值: 13 对应原始值: NiFeOx\n",
      "编码值: 14 对应原始值: NiFeOx/NiFe LDH\n",
      "编码值: 15 对应原始值: Pt\n",
      "编码值: 16 对应原始值: RuOx\n",
      "编码值: 17 对应原始值: unknown_anode\n"
     ]
    }
   ],
   "source": [
    "df['Anode'] = le.fit_transform(df['anode'])\n",
    "# 获取编码后的数字和原始元素的对应关系\n",
    "encoded_to_original = dict(zip(le.transform(le.classes_), le.classes_))\n",
    "\n",
    "# 打印对应关系\n",
    "for encoded_value, original_value in encoded_to_original.items():\n",
    "    print(f\"编码值: {encoded_value} 对应原始值: {original_value}\")"
   ]
  }
 ],
 "metadata": {
  "kernelspec": {
   "display_name": "Python 3 (ipykernel)",
   "language": "python",
   "name": "python3"
  },
  "language_info": {
   "codemirror_mode": {
    "name": "ipython",
    "version": 3
   },
   "file_extension": ".py",
   "mimetype": "text/x-python",
   "name": "python",
   "nbconvert_exporter": "python",
   "pygments_lexer": "ipython3",
   "version": "3.12.3"
  }
 },
 "nbformat": 4,
 "nbformat_minor": 5
}
